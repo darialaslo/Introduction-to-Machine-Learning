{
 "cells": [
  {
   "cell_type": "code",
   "execution_count": 2,
   "metadata": {},
   "outputs": [],
   "source": [
    "import scipy as sp\n",
    "import numpy as np\n",
    "import pandas as pd\n",
    "from sklearn.linear_model import Ridge\n",
    "from sklearn.model_selection import KFold\n",
    "from sklearn.metrics import mean_squared_error"
   ]
  },
  {
   "cell_type": "code",
   "execution_count": 5,
   "metadata": {},
   "outputs": [
    {
     "name": "stdout",
     "output_type": "stream",
     "text": [
      "          0\n",
      "0  5.888257\n",
      "1  5.889066\n",
      "2  5.889163\n",
      "3  5.902089\n",
      "4  5.915763\n"
     ]
    }
   ],
   "source": [
    "data_train = pd.read_csv(\"./train.csv\")\n",
    "data_sample = pd.read_csv(\"./sample.csv\")\n",
    "# print(data_train)\n",
    "# print(data_sample)\n",
    "\n",
    "label = data_train.iloc[:,0]\n",
    "features = data_train.iloc[:,1:]\n",
    "\n",
    "vect_lambdas = [0.1, 1, 10, 100, 200]\n",
    "vect_rmse = []\n",
    "for num_lambda in vect_lambdas:\n",
    "    list_rmse = []\n",
    "    kfold = KFold(n_splits=10)\n",
    "    for train_index, test_index in kfold.split(features):\n",
    "        X_train, X_test = features.iloc[train_index], features.iloc[test_index]\n",
    "        y_train, y_test = label[train_index], label[test_index]\n",
    "        ridge = Ridge(alpha=num_lambda, solver='sag')\n",
    "        ridge.fit(X_train, y_train)\n",
    "        y_pred = ridge.predict(X_test)\n",
    "        list_rmse.append(mean_squared_error(y_test, y_pred, squared=False))\n",
    "    vect_rmse.append(np.mean(list_rmse))\n",
    "\n",
    "submission = pd.DataFrame(vect_rmse)\n",
    "print(submission)\n",
    "submission.to_csv('./submission.csv', index=False, header=False)"
   ]
  },
  {
   "cell_type": "code",
   "execution_count": null,
   "metadata": {},
   "outputs": [],
   "source": []
  }
 ],
 "metadata": {
  "kernelspec": {
   "display_name": "Python 3",
   "language": "python",
   "name": "python3"
  },
  "language_info": {
   "codemirror_mode": {
    "name": "ipython",
    "version": 3
   },
   "file_extension": ".py",
   "mimetype": "text/x-python",
   "name": "python",
   "nbconvert_exporter": "python",
   "pygments_lexer": "ipython3",
   "version": "3.8.3"
  }
 },
 "nbformat": 4,
 "nbformat_minor": 4
}
