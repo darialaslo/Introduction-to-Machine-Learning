{
 "cells": [
  {
   "cell_type": "code",
   "execution_count": 1,
   "metadata": {},
   "outputs": [],
   "source": [
    "import pandas as pd\n",
    "import numpy as np\n",
    "from sklearn.preprocessing import OneHotEncoder\n",
    "import tensorflow \n",
    "#importing models, layers and metrics (not used for the moment)\n",
    "from tensorflow.keras.models import Model, Sequential \n",
    "from tensorflow.keras.layers import Dense, LSTM, Dropout, Input, concatenate\n",
    "from tensorflow.keras.metrics import Accuracy\n",
    "from tensorflow.keras.optimizers import Adam\n",
    "from tensorflow.keras.regularizers import l2\n",
    "from tensorflow.keras.callbacks import ModelCheckpoint, EarlyStopping"
   ]
  },
  {
   "cell_type": "code",
   "execution_count": 2,
   "metadata": {},
   "outputs": [],
   "source": [
    "#data processing \n",
    "\n",
    "#train set\n",
    "train_features = pd.read_csv(\"./data/train.csv\")\n",
    "\n",
    "features = []\n",
    "for i in range(len(train_features)):\n",
    "    features.append(list(train_features[\"Sequence\"][i]))\n",
    "\n",
    "features_pd = pd.DataFrame(features)\n",
    "final = pd.concat([features_pd, train_features['Active']], axis=1)\n",
    "\n",
    "\n",
    "#test set \n",
    "test_features = pd.read_csv(\"./data/test.csv\")\n",
    "\n",
    "tfeatures = []\n",
    "for i in range(len(test_features)):\n",
    "    tfeatures.append(list(test_features[\"Sequence\"][i]))\n",
    "\n",
    "tfeatures_pd = pd.DataFrame(tfeatures)\n",
    "final_test = tfeatures_pd"
   ]
  },
  {
   "cell_type": "code",
   "execution_count": 3,
   "metadata": {},
   "outputs": [
    {
     "name": "stdout",
     "output_type": "stream",
     "text": [
      "['A', 'C', 'D', 'E', 'F', 'G', 'H', 'I', 'K', 'L', 'M', 'N', 'P', 'Q', 'R', 'S', 'T', 'U', 'V', 'W', 'Y']\n"
     ]
    }
   ],
   "source": [
    "#list of amino acids \n",
    "\n",
    "\n",
    "categ=['A', 'C', 'D', 'F', 'G', 'R', 'H', 'K', 'E','S', 'T', 'N', 'Q', 'U', 'P', 'I', 'L', 'M', 'W', 'Y', 'V']\n",
    "categ.sort()\n",
    "print(categ)\n",
    "\n",
    "categories=[categ, categ,categ, categ]"
   ]
  },
  {
   "cell_type": "code",
   "execution_count": 4,
   "metadata": {},
   "outputs": [],
   "source": [
    "#getting the features \n",
    "features=final.iloc[:, :4].astype(str)\n",
    "features_test=final_test.astype(str)\n",
    "\n",
    "enc = OneHotEncoder(sparse=False, categories=categories)\n",
    "transformed_features=enc.fit_transform(features)\n",
    "transformed_test=enc.fit_transform(features_test)"
   ]
  },
  {
   "cell_type": "code",
   "execution_count": 5,
   "metadata": {},
   "outputs": [
    {
     "data": {
      "text/plain": [
       "(112000, 84)"
      ]
     },
     "execution_count": 5,
     "metadata": {},
     "output_type": "execute_result"
    }
   ],
   "source": [
    "transformed_features.shape"
   ]
  },
  {
   "cell_type": "code",
   "execution_count": 6,
   "metadata": {},
   "outputs": [
    {
     "name": "stdout",
     "output_type": "stream",
     "text": [
      "[0 0 0 ... 0 0 0]\n"
     ]
    }
   ],
   "source": [
    "#reshaping input \n",
    "train_samples = transformed_features.reshape(transformed_features.shape[0],1, transformed_features.shape[1])\n",
    "test_samples =transformed_test.reshape(transformed_test.shape[0],1, transformed_test.shape[1])\n",
    "#reshaping labels\n",
    "labels=np.array(final['Active'])\n",
    "print(labels)"
   ]
  },
  {
   "cell_type": "code",
   "execution_count": 7,
   "metadata": {},
   "outputs": [
    {
     "name": "stdout",
     "output_type": "stream",
     "text": [
      "Model: \"model\"\n",
      "_________________________________________________________________\n",
      "Layer (type)                 Output Shape              Param #   \n",
      "=================================================================\n",
      "input_1 (InputLayer)         [(None, 1, 84)]           0         \n",
      "_________________________________________________________________\n",
      "dense (Dense)                (None, 1, 69)             5865      \n",
      "_________________________________________________________________\n",
      "dense_1 (Dense)              (None, 1, 42)             2940      \n",
      "_________________________________________________________________\n",
      "dense_2 (Dense)              (None, 1, 13)             559       \n",
      "_________________________________________________________________\n",
      "dropout (Dropout)            (None, 1, 13)             0         \n",
      "_________________________________________________________________\n",
      "dense_3 (Dense)              (None, 1, 1)              14        \n",
      "=================================================================\n",
      "Total params: 9,378\n",
      "Trainable params: 9,378\n",
      "Non-trainable params: 0\n",
      "_________________________________________________________________\n"
     ]
    }
   ],
   "source": [
    "#define parameters\n",
    "samples=112000\n",
    "features=84\n",
    "fnode_1=69\n",
    "fnode_2=42\n",
    "fnode_3=13\n",
    "\n",
    "#cin = Input(batch_shape=(None,2))\n",
    "pin = Input(batch_shape=(None, 1, features))\n",
    "\n",
    "#cout = cin\n",
    "#pout = pin\n",
    "\n",
    "\n",
    "layer_1 = Dense(fnode_1, kernel_initializer='he_uniform', activation='relu')(pin)\n",
    "#out = pout\n",
    "\n",
    "#out = concatenate([pout, cout])\n",
    "layer_2 = Dense(fnode_2, activation='relu')(layer_1)\n",
    "layer_3 = Dense(fnode_3, activation='relu')(layer_2)\n",
    "\n",
    "\n",
    "out = Dropout(0.8)(layer_3)\n",
    "out = Dense(1, kernel_initializer='he_uniform', activation='sigmoid')(out)\n",
    "\n",
    "adam=Adam(lr=0.001, beta_1=0.9, beta_2=0.999, decay=0.01)\n",
    "    \n",
    "model = Model(inputs=[pin], outputs=[out])\n",
    "\n",
    "model.compile(loss='binary_crossentropy', optimizer=adam, metrics=['accuracy'])\n",
    "    \n",
    "#summarise the model\n",
    "model.summary()"
   ]
  },
  {
   "cell_type": "code",
   "execution_count": 8,
   "metadata": {},
   "outputs": [
    {
     "name": "stdout",
     "output_type": "stream",
     "text": [
      "Epoch 1/50\n",
      "3500/3500 [==============================] - 4s 995us/step - loss: 0.2971 - accuracy: 0.9509\n",
      "Epoch 2/50\n",
      "3500/3500 [==============================] - 3s 888us/step - loss: 0.2266 - accuracy: 0.9622\n",
      "Epoch 3/50\n",
      "3500/3500 [==============================] - 3s 887us/step - loss: 0.2152 - accuracy: 0.9624\n",
      "Epoch 4/50\n",
      "3500/3500 [==============================] - 3s 896us/step - loss: 0.2117 - accuracy: 0.9614\n",
      "Epoch 5/50\n",
      "3500/3500 [==============================] - 3s 895us/step - loss: 0.2031 - accuracy: 0.9625\n",
      "Epoch 6/50\n",
      "3500/3500 [==============================] - 3s 920us/step - loss: 0.2001 - accuracy: 0.9621\n",
      "Epoch 7/50\n",
      "3500/3500 [==============================] - 3s 900us/step - loss: 0.1985 - accuracy: 0.9619\n",
      "Epoch 8/50\n",
      "3500/3500 [==============================] - 3s 911us/step - loss: 0.1961 - accuracy: 0.9625\n",
      "Epoch 9/50\n",
      "3500/3500 [==============================] - 4s 1ms/step - loss: 0.1937 - accuracy: 0.9636\n",
      "Epoch 10/50\n",
      "3500/3500 [==============================] - 4s 1ms/step - loss: 0.1913 - accuracy: 0.9630\n",
      "Epoch 11/50\n",
      "3500/3500 [==============================] - 3s 902us/step - loss: 0.1920 - accuracy: 0.96210s - loss: 0.192\n",
      "Epoch 12/50\n",
      "3500/3500 [==============================] - 3s 926us/step - loss: 0.1899 - accuracy: 0.9628\n",
      "Epoch 13/50\n",
      "3500/3500 [==============================] - 3s 889us/step - loss: 0.1883 - accuracy: 0.9634\n",
      "Epoch 14/50\n",
      "3500/3500 [==============================] - 3s 896us/step - loss: 0.1879 - accuracy: 0.9626\n",
      "Epoch 15/50\n",
      "3500/3500 [==============================] - 3s 893us/step - loss: 0.1860 - accuracy: 0.9637\n",
      "Epoch 16/50\n",
      "3500/3500 [==============================] - 3s 922us/step - loss: 0.1850 - accuracy: 0.9637\n",
      "Epoch 17/50\n",
      "3500/3500 [==============================] - 3s 923us/step - loss: 0.1855 - accuracy: 0.9631\n"
     ]
    }
   ],
   "source": [
    "callback = EarlyStopping(monitor='loss')\n",
    "model_fit = model.fit(train_samples, labels, epochs=50, callbacks = [callback])"
   ]
  },
  {
   "cell_type": "code",
   "execution_count": 9,
   "metadata": {},
   "outputs": [],
   "source": [
    "# predict \n",
    "pred = model.predict(test_samples)"
   ]
  },
  {
   "cell_type": "code",
   "execution_count": null,
   "metadata": {},
   "outputs": [],
   "source": []
  },
  {
   "cell_type": "code",
   "execution_count": 10,
   "metadata": {},
   "outputs": [
    {
     "name": "stdout",
     "output_type": "stream",
     "text": [
      "4213\n"
     ]
    }
   ],
   "source": [
    "print(np.sum(labels))"
   ]
  },
  {
   "cell_type": "code",
   "execution_count": 11,
   "metadata": {},
   "outputs": [
    {
     "data": {
      "text/plain": [
       "0"
      ]
     },
     "execution_count": 11,
     "metadata": {},
     "output_type": "execute_result"
    }
   ],
   "source": [
    "np.sum(np.argmax(pred,axis=1))"
   ]
  },
  {
   "cell_type": "code",
   "execution_count": 17,
   "metadata": {},
   "outputs": [
    {
     "name": "stdout",
     "output_type": "stream",
     "text": [
      "Epoch 1/20\n",
      "3500/3500 [==============================] - 4s 913us/step - loss: 0.1392 - accuracy: 0.9626\n",
      "Epoch 2/20\n",
      "3500/3500 [==============================] - 3s 787us/step - loss: 0.0483 - accuracy: 0.9830\n",
      "Epoch 3/20\n",
      "3500/3500 [==============================] - 3s 810us/step - loss: 0.0381 - accuracy: 0.9865\n",
      "Epoch 4/20\n",
      "3500/3500 [==============================] - 3s 809us/step - loss: 0.0326 - accuracy: 0.9873\n",
      "Epoch 5/20\n",
      "3500/3500 [==============================] - 3s 917us/step - loss: 0.0298 - accuracy: 0.98820s - loss:\n",
      "Epoch 6/20\n",
      "3500/3500 [==============================] - 3s 904us/step - loss: 0.0270 - accuracy: 0.9900\n",
      "Epoch 7/20\n",
      "3500/3500 [==============================] - 3s 796us/step - loss: 0.0259 - accuracy: 0.9898\n",
      "Epoch 8/20\n",
      "3500/3500 [==============================] - 3s 923us/step - loss: 0.0240 - accuracy: 0.9905\n",
      "Epoch 9/20\n",
      "3500/3500 [==============================] - 3s 779us/step - loss: 0.0240 - accuracy: 0.9905\n",
      "Epoch 10/20\n",
      "3500/3500 [==============================] - 3s 784us/step - loss: 0.0247 - accuracy: 0.9903\n",
      "Epoch 11/20\n",
      "3500/3500 [==============================] - 3s 791us/step - loss: 0.0239 - accuracy: 0.9904\n",
      "Epoch 12/20\n",
      "3500/3500 [==============================] - 3s 836us/step - loss: 0.0225 - accuracy: 0.9912\n",
      "Epoch 13/20\n",
      "3500/3500 [==============================] - 3s 857us/step - loss: 0.0226 - accuracy: 0.9913\n",
      "Epoch 14/20\n",
      "3500/3500 [==============================] - 3s 799us/step - loss: 0.0219 - accuracy: 0.9916\n",
      "Epoch 15/20\n",
      "3500/3500 [==============================] - 3s 808us/step - loss: 0.0214 - accuracy: 0.9917\n",
      "Epoch 16/20\n",
      "3500/3500 [==============================] - 3s 814us/step - loss: 0.0204 - accuracy: 0.9919\n",
      "Epoch 17/20\n",
      "3500/3500 [==============================] - 3s 813us/step - loss: 0.0211 - accuracy: 0.9916\n",
      "Epoch 18/20\n",
      "3500/3500 [==============================] - 3s 818us/step - loss: 0.0203 - accuracy: 0.9920\n",
      "Epoch 19/20\n",
      "3500/3500 [==============================] - 3s 816us/step - loss: 0.0202 - accuracy: 0.9920\n",
      "Epoch 20/20\n",
      "3500/3500 [==============================] - 3s 858us/step - loss: 0.0207 - accuracy: 0.9920\n"
     ]
    },
    {
     "data": {
      "text/plain": [
       "<tensorflow.python.keras.callbacks.History at 0x7f9549646040>"
      ]
     },
     "execution_count": 17,
     "metadata": {},
     "output_type": "execute_result"
    }
   ],
   "source": [
    "\n",
    "model2 = Sequential()\n",
    "model2.add(Dense(12, input_dim=84, activation='relu'))\n",
    "model2.add(Dense(8, activation='relu'))\n",
    "model2.add(Dense(1, activation='sigmoid'))\n",
    "# compile the keras model\n",
    "model2.compile(loss='binary_crossentropy', optimizer='adam', metrics=['accuracy'])\n",
    "# fit the keras model on the dataset\n",
    "model2.fit(transformed_features, labels, epochs=20)\n"
   ]
  },
  {
   "cell_type": "code",
   "execution_count": 18,
   "metadata": {},
   "outputs": [
    {
     "name": "stderr",
     "output_type": "stream",
     "text": [
      "/Users/darialaslo/opt/anaconda3/lib/python3.8/site-packages/tensorflow/python/keras/engine/sequential.py:450: UserWarning: `model.predict_classes()` is deprecated and will be removed after 2021-01-01. Please use instead:* `np.argmax(model.predict(x), axis=-1)`,   if your model does multi-class classification   (e.g. if it uses a `softmax` last-layer activation).* `(model.predict(x) > 0.5).astype(\"int32\")`,   if your model does binary classification   (e.g. if it uses a `sigmoid` last-layer activation).\n",
      "  warnings.warn('`model.predict_classes()` is deprecated and '\n"
     ]
    }
   ],
   "source": [
    "pred2=model2.predict_classes(transformed_test)"
   ]
  },
  {
   "cell_type": "code",
   "execution_count": 23,
   "metadata": {},
   "outputs": [
    {
     "data": {
      "text/html": [
       "<div>\n",
       "<style scoped>\n",
       "    .dataframe tbody tr th:only-of-type {\n",
       "        vertical-align: middle;\n",
       "    }\n",
       "\n",
       "    .dataframe tbody tr th {\n",
       "        vertical-align: top;\n",
       "    }\n",
       "\n",
       "    .dataframe thead th {\n",
       "        text-align: right;\n",
       "    }\n",
       "</style>\n",
       "<table border=\"1\" class=\"dataframe\">\n",
       "  <thead>\n",
       "    <tr style=\"text-align: right;\">\n",
       "      <th></th>\n",
       "      <th>0</th>\n",
       "    </tr>\n",
       "  </thead>\n",
       "  <tbody>\n",
       "    <tr>\n",
       "      <th>0</th>\n",
       "      <td>0</td>\n",
       "    </tr>\n",
       "    <tr>\n",
       "      <th>1</th>\n",
       "      <td>0</td>\n",
       "    </tr>\n",
       "    <tr>\n",
       "      <th>2</th>\n",
       "      <td>0</td>\n",
       "    </tr>\n",
       "    <tr>\n",
       "      <th>3</th>\n",
       "      <td>0</td>\n",
       "    </tr>\n",
       "    <tr>\n",
       "      <th>4</th>\n",
       "      <td>0</td>\n",
       "    </tr>\n",
       "    <tr>\n",
       "      <th>...</th>\n",
       "      <td>...</td>\n",
       "    </tr>\n",
       "    <tr>\n",
       "      <th>47995</th>\n",
       "      <td>0</td>\n",
       "    </tr>\n",
       "    <tr>\n",
       "      <th>47996</th>\n",
       "      <td>0</td>\n",
       "    </tr>\n",
       "    <tr>\n",
       "      <th>47997</th>\n",
       "      <td>0</td>\n",
       "    </tr>\n",
       "    <tr>\n",
       "      <th>47998</th>\n",
       "      <td>0</td>\n",
       "    </tr>\n",
       "    <tr>\n",
       "      <th>47999</th>\n",
       "      <td>0</td>\n",
       "    </tr>\n",
       "  </tbody>\n",
       "</table>\n",
       "<p>48000 rows × 1 columns</p>\n",
       "</div>"
      ],
      "text/plain": [
       "       0\n",
       "0      0\n",
       "1      0\n",
       "2      0\n",
       "3      0\n",
       "4      0\n",
       "...   ..\n",
       "47995  0\n",
       "47996  0\n",
       "47997  0\n",
       "47998  0\n",
       "47999  0\n",
       "\n",
       "[48000 rows x 1 columns]"
      ]
     },
     "execution_count": 23,
     "metadata": {},
     "output_type": "execute_result"
    }
   ],
   "source": [
    "pd.DataFrame(pred2)"
   ]
  },
  {
   "cell_type": "code",
   "execution_count": null,
   "metadata": {},
   "outputs": [],
   "source": []
  },
  {
   "cell_type": "code",
   "execution_count": 21,
   "metadata": {},
   "outputs": [
    {
     "data": {
      "text/plain": [
       "(48000, 84)"
      ]
     },
     "execution_count": 21,
     "metadata": {},
     "output_type": "execute_result"
    }
   ],
   "source": [
    "transformed_test.shape"
   ]
  },
  {
   "cell_type": "code",
   "execution_count": null,
   "metadata": {},
   "outputs": [],
   "source": []
  }
 ],
 "metadata": {
  "kernelspec": {
   "display_name": "Python 3",
   "language": "python",
   "name": "python3"
  },
  "language_info": {
   "codemirror_mode": {
    "name": "ipython",
    "version": 3
   },
   "file_extension": ".py",
   "mimetype": "text/x-python",
   "name": "python",
   "nbconvert_exporter": "python",
   "pygments_lexer": "ipython3",
   "version": "3.8.3"
  }
 },
 "nbformat": 4,
 "nbformat_minor": 4
}
